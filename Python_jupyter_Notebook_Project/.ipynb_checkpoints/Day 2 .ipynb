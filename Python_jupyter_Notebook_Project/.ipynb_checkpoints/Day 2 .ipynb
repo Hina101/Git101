{
 "cells": [
  {
   "cell_type": "code",
   "execution_count": null,
   "id": "6eae3c7c",
   "metadata": {},
   "outputs": [],
   "source": [
    "height=input(\"What is your height ?\")\n"
   ]
  },
  {
   "cell_type": "code",
   "execution_count": null,
   "id": "74054f33",
   "metadata": {},
   "outputs": [],
   "source": [
    "weight=input(\"What is your weight ? \")"
   ]
  },
  {
   "cell_type": "code",
   "execution_count": null,
   "id": "d1acd983",
   "metadata": {},
   "outputs": [],
   "source": [
    "name=input(\"What is your name ?  \")"
   ]
  },
  {
   "cell_type": "code",
   "execution_count": null,
   "id": "b11ad91e",
   "metadata": {},
   "outputs": [],
   "source": [
    "BMI= weight/height**2\n",
    "BMI"
   ]
  },
  {
   "cell_type": "code",
   "execution_count": null,
   "id": "1ddd95f1",
   "metadata": {},
   "outputs": [],
   "source": [
    "print(\"My name is\" , name,  \"and my BMI is\" BMI )"
   ]
  },
  {
   "cell_type": "code",
   "execution_count": null,
   "id": "886f7706",
   "metadata": {},
   "outputs": [],
   "source": []
  }
 ],
 "metadata": {
  "kernelspec": {
   "display_name": "Python 3 (ipykernel)",
   "language": "python",
   "name": "python3"
  },
  "language_info": {
   "codemirror_mode": {
    "name": "ipython",
    "version": 3
   },
   "file_extension": ".py",
   "mimetype": "text/x-python",
   "name": "python",
   "nbconvert_exporter": "python",
   "pygments_lexer": "ipython3",
   "version": "3.11.7"
  }
 },
 "nbformat": 4,
 "nbformat_minor": 5
}
