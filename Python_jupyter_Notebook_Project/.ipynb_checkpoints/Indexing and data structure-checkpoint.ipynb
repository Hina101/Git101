{
 "cells": [
  {
   "cell_type": "markdown",
   "id": "2f9a1bee",
   "metadata": {},
   "source": [
    "# - Indexing"
   ]
  },
  {
   "cell_type": "code",
   "execution_count": 4,
   "id": "ac1eebcf",
   "metadata": {},
   "outputs": [
    {
     "data": {
      "text/plain": [
       "'Samosa Pakora'"
      ]
     },
     "execution_count": 4,
     "metadata": {},
     "output_type": "execute_result"
    }
   ],
   "source": [
    "# make a string\n",
    "a=  \"Samosa Pakora\"\n",
    "a"
   ]
  },
  {
   "cell_type": "code",
   "execution_count": 5,
   "id": "16220034",
   "metadata": {},
   "outputs": [
    {
     "data": {
      "text/plain": [
       "13"
      ]
     },
     "execution_count": 5,
     "metadata": {},
     "output_type": "execute_result"
    }
   ],
   "source": [
    "# Length of index \n",
    "len(a)"
   ]
  },
  {
   "cell_type": "code",
   "execution_count": 6,
   "id": "cc4bff94",
   "metadata": {},
   "outputs": [
    {
     "data": {
      "text/plain": [
       "'Samosa Pakora'"
      ]
     },
     "execution_count": 6,
     "metadata": {},
     "output_type": "execute_result"
    }
   ],
   "source": [
    "a"
   ]
  },
  {
   "cell_type": "code",
   "execution_count": 7,
   "id": "61960e68",
   "metadata": {},
   "outputs": [
    {
     "data": {
      "text/plain": [
       "'S'"
      ]
     },
     "execution_count": 7,
     "metadata": {},
     "output_type": "execute_result"
    }
   ],
   "source": [
    "a[0]"
   ]
  },
  {
   "cell_type": "code",
   "execution_count": 8,
   "id": "a456e4da",
   "metadata": {},
   "outputs": [
    {
     "data": {
      "text/plain": [
       "'a'"
      ]
     },
     "execution_count": 8,
     "metadata": {},
     "output_type": "execute_result"
    }
   ],
   "source": [
    "a[1]"
   ]
  },
  {
   "cell_type": "code",
   "execution_count": 9,
   "id": "6278cbcb",
   "metadata": {},
   "outputs": [
    {
     "data": {
      "text/plain": [
       "'o'"
      ]
     },
     "execution_count": 9,
     "metadata": {},
     "output_type": "execute_result"
    }
   ],
   "source": [
    "a[3]"
   ]
  },
  {
   "cell_type": "code",
   "execution_count": 10,
   "id": "700f3935",
   "metadata": {},
   "outputs": [
    {
     "data": {
      "text/plain": [
       "'a'"
      ]
     },
     "execution_count": 10,
     "metadata": {},
     "output_type": "execute_result"
    }
   ],
   "source": [
    "a[12]"
   ]
  },
  {
   "cell_type": "code",
   "execution_count": 11,
   "id": "52b5a44f",
   "metadata": {},
   "outputs": [
    {
     "data": {
      "text/plain": [
       "'Samos'"
      ]
     },
     "execution_count": 11,
     "metadata": {},
     "output_type": "execute_result"
    }
   ],
   "source": [
    "a[0:5]"
   ]
  },
  {
   "cell_type": "code",
   "execution_count": 12,
   "id": "916c2872",
   "metadata": {},
   "outputs": [
    {
     "data": {
      "text/plain": [
       "'Samosa'"
      ]
     },
     "execution_count": 12,
     "metadata": {},
     "output_type": "execute_result"
    }
   ],
   "source": [
    "a[0:6]"
   ]
  },
  {
   "cell_type": "code",
   "execution_count": 13,
   "id": "4a513424",
   "metadata": {},
   "outputs": [
    {
     "data": {
      "text/plain": [
       "' Pakora'"
      ]
     },
     "execution_count": 13,
     "metadata": {},
     "output_type": "execute_result"
    }
   ],
   "source": [
    "a[6:13]"
   ]
  },
  {
   "cell_type": "code",
   "execution_count": 14,
   "id": "096dbf7b",
   "metadata": {},
   "outputs": [
    {
     "data": {
      "text/plain": [
       "'Samosa Pakora'"
      ]
     },
     "execution_count": 14,
     "metadata": {},
     "output_type": "execute_result"
    }
   ],
   "source": [
    "a[0:13]"
   ]
  },
  {
   "cell_type": "code",
   "execution_count": 15,
   "id": "09e52071",
   "metadata": {},
   "outputs": [
    {
     "data": {
      "text/plain": [
       "'a'"
      ]
     },
     "execution_count": 15,
     "metadata": {},
     "output_type": "execute_result"
    }
   ],
   "source": [
    "a[-1]"
   ]
  },
  {
   "cell_type": "code",
   "execution_count": 16,
   "id": "110dc407",
   "metadata": {},
   "outputs": [
    {
     "data": {
      "text/plain": [
       "'P'"
      ]
     },
     "execution_count": 16,
     "metadata": {},
     "output_type": "execute_result"
    }
   ],
   "source": [
    "a[-6]"
   ]
  },
  {
   "cell_type": "code",
   "execution_count": 17,
   "id": "64cb1643",
   "metadata": {},
   "outputs": [
    {
     "data": {
      "text/plain": [
       "'Pakor'"
      ]
     },
     "execution_count": 17,
     "metadata": {},
     "output_type": "execute_result"
    }
   ],
   "source": [
    "a[-6:-1]"
   ]
  },
  {
   "cell_type": "code",
   "execution_count": 18,
   "id": "23b6e028",
   "metadata": {},
   "outputs": [
    {
     "data": {
      "text/plain": [
       "''"
      ]
     },
     "execution_count": 18,
     "metadata": {},
     "output_type": "execute_result"
    }
   ],
   "source": [
    "a[-1:-6] #Nothing print, english can not be start right to left"
   ]
  },
  {
   "cell_type": "code",
   "execution_count": 19,
   "id": "46890cef",
   "metadata": {},
   "outputs": [
    {
     "data": {
      "text/plain": [
       "'Pakora'"
      ]
     },
     "execution_count": 19,
     "metadata": {},
     "output_type": "execute_result"
    }
   ],
   "source": [
    "a[-6:13]"
   ]
  },
  {
   "cell_type": "code",
   "execution_count": 20,
   "id": "b0afe632",
   "metadata": {},
   "outputs": [
    {
     "data": {
      "text/plain": [
       "'biryani'"
      ]
     },
     "execution_count": 20,
     "metadata": {},
     "output_type": "execute_result"
    }
   ],
   "source": [
    "food= \"biryani\"\n",
    "food"
   ]
  },
  {
   "cell_type": "markdown",
   "id": "81efb2d2",
   "metadata": {},
   "source": [
    "# String Methods"
   ]
  },
  {
   "cell_type": "code",
   "execution_count": 21,
   "id": "777576b4",
   "metadata": {},
   "outputs": [
    {
     "data": {
      "text/plain": [
       "'biryani'"
      ]
     },
     "execution_count": 21,
     "metadata": {},
     "output_type": "execute_result"
    }
   ],
   "source": [
    "food"
   ]
  },
  {
   "cell_type": "code",
   "execution_count": 22,
   "id": "9bf2335d",
   "metadata": {},
   "outputs": [
    {
     "data": {
      "text/plain": [
       "7"
      ]
     },
     "execution_count": 22,
     "metadata": {},
     "output_type": "execute_result"
    }
   ],
   "source": [
    "len(food)"
   ]
  },
  {
   "cell_type": "code",
   "execution_count": 23,
   "id": "89ca9460",
   "metadata": {},
   "outputs": [
    {
     "data": {
      "text/plain": [
       "'Biryani'"
      ]
     },
     "execution_count": 23,
     "metadata": {},
     "output_type": "execute_result"
    }
   ],
   "source": [
    "#capitalize every letter\n",
    "food.capitalize()"
   ]
  },
  {
   "cell_type": "code",
   "execution_count": 24,
   "id": "8b209c49",
   "metadata": {},
   "outputs": [
    {
     "data": {
      "text/plain": [
       "'BIRYANI'"
      ]
     },
     "execution_count": 24,
     "metadata": {},
     "output_type": "execute_result"
    }
   ],
   "source": [
    "#uppercase letter\n",
    "food.upper()"
   ]
  },
  {
   "cell_type": "code",
   "execution_count": 25,
   "id": "b6d571d8",
   "metadata": {},
   "outputs": [
    {
     "data": {
      "text/plain": [
       "'biryani'"
      ]
     },
     "execution_count": 25,
     "metadata": {},
     "output_type": "execute_result"
    }
   ],
   "source": [
    "#lower case letter\n",
    "food.lower()"
   ]
  },
  {
   "cell_type": "code",
   "execution_count": 26,
   "id": "f56a4d10",
   "metadata": {},
   "outputs": [],
   "source": [
    "#Replace\n",
    "food.replace(\"B\",\"Sh\")"
   ]
  },
  {
   "cell_type": "code",
   "execution_count": null,
   "id": "89cbe5cc",
   "metadata": {},
   "outputs": [],
   "source": [
    "# counting a specific alphabet in a string\n",
    "name= \"Hina_Riaz\"\n",
    "name"
   ]
  },
  {
   "cell_type": "code",
   "execution_count": null,
   "id": "630b9a8f",
   "metadata": {},
   "outputs": [],
   "source": [
    "name.count(\"a\")"
   ]
  },
  {
   "cell_type": "markdown",
   "id": "6263d97e",
   "metadata": {},
   "source": [
    "# How to find a index number in string"
   ]
  },
  {
   "cell_type": "code",
   "execution_count": null,
   "id": "3a63aa2f",
   "metadata": {},
   "outputs": [],
   "source": [
    "name= \"Hina_Riaz\"\n",
    "name"
   ]
  },
  {
   "cell_type": "code",
   "execution_count": null,
   "id": "85db0b2f",
   "metadata": {},
   "outputs": [],
   "source": [
    "name.find(\"a\")"
   ]
  },
  {
   "cell_type": "code",
   "execution_count": null,
   "id": "40f8b8b8",
   "metadata": {},
   "outputs": [],
   "source": [
    "#how to split a string\n",
    "food= \"I love samosa, pakora, raita and biryani\"\n",
    "food"
   ]
  },
  {
   "cell_type": "code",
   "execution_count": null,
   "id": "747724b0",
   "metadata": {},
   "outputs": [],
   "source": [
    "food.split(\",\")"
   ]
  },
  {
   "cell_type": "markdown",
   "id": "63f96093",
   "metadata": {},
   "source": [
    "# Basic Data Structures in Python"
   ]
  },
  {
   "cell_type": "markdown",
   "id": "aa2af3aa",
   "metadata": {},
   "source": [
    "### 1- Tuple\n",
    "### 2- List\n",
    "### 3- Dictionaries\n",
    "### 4- Set"
   ]
  },
  {
   "cell_type": "markdown",
   "id": "34f58934",
   "metadata": {},
   "source": [
    "---"
   ]
  },
  {
   "cell_type": "markdown",
   "id": "f42d2ca0",
   "metadata": {},
   "source": [
    "## 1- Tuples\n",
    "#### Ordered collection of elements\n",
    "#### Enclosed in round braces()\n",
    "#### Different kind of elements can be stored\n",
    "#### Once elements saved u can not change"
   ]
  },
  {
   "cell_type": "code",
   "execution_count": null,
   "id": "eaa74c14",
   "metadata": {},
   "outputs": [],
   "source": [
    "Tup1=(1, \"Python\",True, 2.5)\n",
    "Tup1"
   ]
  },
  {
   "cell_type": "code",
   "execution_count": null,
   "id": "ec46d44c",
   "metadata": {},
   "outputs": [],
   "source": [
    "#Type of Tup1\n",
    "type(Tup1)"
   ]
  },
  {
   "cell_type": "markdown",
   "id": "bb50fd21",
   "metadata": {},
   "source": [
    "### -Indexing in Tuple"
   ]
  },
  {
   "cell_type": "code",
   "execution_count": null,
   "id": "92259583",
   "metadata": {},
   "outputs": [],
   "source": [
    "Tup1[1]"
   ]
  },
  {
   "cell_type": "code",
   "execution_count": null,
   "id": "0f2b9803",
   "metadata": {},
   "outputs": [],
   "source": [
    "Tup1[0:4]"
   ]
  },
  {
   "cell_type": "code",
   "execution_count": null,
   "id": "6b8db999",
   "metadata": {},
   "outputs": [],
   "source": [
    "#Last element is exculsive as its start from 0\n",
    "Tup1[0:3]"
   ]
  },
  {
   "cell_type": "code",
   "execution_count": null,
   "id": "c2906e29",
   "metadata": {},
   "outputs": [],
   "source": [
    "len(Tup1)"
   ]
  },
  {
   "cell_type": "code",
   "execution_count": null,
   "id": "408dfe9e",
   "metadata": {},
   "outputs": [],
   "source": [
    "tup2=(2, \"Hina Riaz\", 2.5, False)\n",
    "tup2"
   ]
  },
  {
   "cell_type": "code",
   "execution_count": null,
   "id": "0907a5f6",
   "metadata": {},
   "outputs": [],
   "source": [
    "len(tup2)"
   ]
  },
  {
   "cell_type": "code",
   "execution_count": null,
   "id": "f80eb474",
   "metadata": {},
   "outputs": [],
   "source": [
    "#Concatenate (add two or more then 2 tuples)\n",
    "Tup1+tup2"
   ]
  },
  {
   "cell_type": "code",
   "execution_count": null,
   "id": "fdf79f0a",
   "metadata": {},
   "outputs": [],
   "source": [
    "##Contatenate+Repeat\n",
    "Tup1*2+tup2"
   ]
  },
  {
   "cell_type": "code",
   "execution_count": null,
   "id": "fbd23aaf",
   "metadata": {},
   "outputs": [],
   "source": [
    "tup3=(20, 30, 90,80)\n",
    "tup3"
   ]
  },
  {
   "cell_type": "code",
   "execution_count": null,
   "id": "9961b277",
   "metadata": {},
   "outputs": [],
   "source": [
    "#minimum\n",
    "min(tup3)"
   ]
  },
  {
   "cell_type": "code",
   "execution_count": null,
   "id": "60842dc7",
   "metadata": {},
   "outputs": [],
   "source": [
    "#maximum\n",
    "max(tup3)"
   ]
  },
  {
   "cell_type": "code",
   "execution_count": null,
   "id": "9ee61b45",
   "metadata": {},
   "outputs": [],
   "source": [
    "tup3*2"
   ]
  },
  {
   "cell_type": "markdown",
   "id": "89d31808",
   "metadata": {},
   "source": [
    "---"
   ]
  },
  {
   "cell_type": "markdown",
   "id": "7bf5cfac",
   "metadata": {},
   "source": [
    "## Lists\n",
    "#### Ordered collection of elements\n",
    "#### Enclosed in [ ] sqaure braces\n",
    "#### Mutageable (You can change values)"
   ]
  },
  {
   "cell_type": "code",
   "execution_count": null,
   "id": "a3fcea34",
   "metadata": {},
   "outputs": [],
   "source": [
    "list1=[2,\"Hina Riaz\", False]\n",
    "list1"
   ]
  },
  {
   "cell_type": "code",
   "execution_count": null,
   "id": "4e5abe26",
   "metadata": {},
   "outputs": [],
   "source": [
    "type(list1)"
   ]
  },
  {
   "cell_type": "code",
   "execution_count": null,
   "id": "1e8224c0",
   "metadata": {},
   "outputs": [],
   "source": [
    "len(list1)"
   ]
  },
  {
   "cell_type": "code",
   "execution_count": null,
   "id": "facb114d",
   "metadata": {},
   "outputs": [],
   "source": [
    "list1[2]"
   ]
  },
  {
   "cell_type": "code",
   "execution_count": null,
   "id": "967c9369",
   "metadata": {},
   "outputs": [],
   "source": [
    "list2=[3,5,\"Hina\", \"Mango\", 470, 53.2, False]\n",
    "list2"
   ]
  },
  {
   "cell_type": "code",
   "execution_count": null,
   "id": "08058940",
   "metadata": {},
   "outputs": [],
   "source": [
    "list1+list2"
   ]
  },
  {
   "cell_type": "code",
   "execution_count": null,
   "id": "6c806e23",
   "metadata": {},
   "outputs": [],
   "source": [
    "list1*2"
   ]
  },
  {
   "cell_type": "code",
   "execution_count": null,
   "id": "f36b547f",
   "metadata": {},
   "outputs": [],
   "source": [
    "list1.reverse()\n",
    "list1"
   ]
  },
  {
   "cell_type": "code",
   "execution_count": null,
   "id": "e1e1d4f9",
   "metadata": {},
   "outputs": [],
   "source": [
    "list1.copy()\n",
    "list1"
   ]
  },
  {
   "cell_type": "code",
   "execution_count": null,
   "id": "cc5b1903",
   "metadata": {},
   "outputs": [],
   "source": [
    "type(list1)"
   ]
  },
  {
   "cell_type": "code",
   "execution_count": null,
   "id": "3046f27f",
   "metadata": {},
   "outputs": [],
   "source": [
    "len(list1)"
   ]
  },
  {
   "cell_type": "code",
   "execution_count": null,
   "id": "42f1dadc",
   "metadata": {},
   "outputs": [],
   "source": [
    "list1.append(\"Hello Hina Riaz Here\")\n",
    "list1"
   ]
  },
  {
   "cell_type": "code",
   "execution_count": null,
   "id": "5e25de49",
   "metadata": {},
   "outputs": [],
   "source": [
    "list2=[1,2,4,3,4,1,4]\n",
    "list2"
   ]
  },
  {
   "cell_type": "code",
   "execution_count": null,
   "id": "47ebe2aa",
   "metadata": {},
   "outputs": [],
   "source": [
    "len(list2)"
   ]
  },
  {
   "cell_type": "code",
   "execution_count": null,
   "id": "a2249270",
   "metadata": {},
   "outputs": [],
   "source": [
    "#Sorting a list\n",
    "list2.sort()\n",
    "list2"
   ]
  },
  {
   "cell_type": "code",
   "execution_count": null,
   "id": "3623cce1",
   "metadata": {},
   "outputs": [],
   "source": [
    "list2*2"
   ]
  },
  {
   "cell_type": "code",
   "execution_count": null,
   "id": "af6a3794",
   "metadata": {},
   "outputs": [],
   "source": [
    "list2*3"
   ]
  },
  {
   "cell_type": "code",
   "execution_count": null,
   "id": "d43022e5",
   "metadata": {
    "scrolled": true
   },
   "outputs": [],
   "source": [
    "list1+list2"
   ]
  },
  {
   "cell_type": "code",
   "execution_count": null,
   "id": "25c453f0",
   "metadata": {
    "scrolled": true
   },
   "outputs": [],
   "source": [
    "lists=list1+list2\n",
    "lists"
   ]
  },
  {
   "cell_type": "markdown",
   "id": "42999f32",
   "metadata": {},
   "source": [
    "# Dictionries"
   ]
  },
  {
   "cell_type": "markdown",
   "id": "c103f265",
   "metadata": {},
   "source": [
    "#### An unordered collection of elements\n",
    "#### Key and Value\n",
    "#### Curly braces used{ }\n",
    "#### MuatateAble Changeable"
   ]
  },
  {
   "cell_type": "code",
   "execution_count": null,
   "id": "ddea2f37",
   "metadata": {},
   "outputs": [],
   "source": [
    "#fruits and their prices\n",
    "food1={\"Samosa\": 30, \"Pakory\": 100, \"Raita\": 10, \"Salad\": 20, \"chicken roll\": 20,}\n",
    "food1"
   ]
  },
  {
   "cell_type": "code",
   "execution_count": null,
   "id": "29b3a196",
   "metadata": {},
   "outputs": [],
   "source": [
    "type(food1)"
   ]
  },
  {
   "cell_type": "code",
   "execution_count": null,
   "id": "7008778c",
   "metadata": {},
   "outputs": [],
   "source": [
    "#Extract data (keys)\n",
    "keys1=food1.keys()\n",
    "keys1"
   ]
  },
  {
   "cell_type": "code",
   "execution_count": null,
   "id": "4bca4a1b",
   "metadata": {},
   "outputs": [],
   "source": [
    "#extract data(values)\n",
    "values1=food1.values()\n",
    "values1"
   ]
  },
  {
   "cell_type": "code",
   "execution_count": null,
   "id": "58151905",
   "metadata": {},
   "outputs": [],
   "source": [
    "#adding new element\n",
    "food1[\"tiki\"]=10\n",
    "food1"
   ]
  },
  {
   "cell_type": "code",
   "execution_count": null,
   "id": "3da72210",
   "metadata": {},
   "outputs": [],
   "source": [
    "#update the values\n",
    "food1[\"tiki\"]=15\n",
    "food1"
   ]
  },
  {
   "cell_type": "code",
   "execution_count": null,
   "id": "24bea168",
   "metadata": {},
   "outputs": [],
   "source": [
    "food2 = {\"dates\" :50, \"choclates\":200, \"siwaniya\": 1000,}\n",
    "food2"
   ]
  },
  {
   "cell_type": "code",
   "execution_count": null,
   "id": "582ec77e",
   "metadata": {},
   "outputs": [],
   "source": [
    "#concatenate\n",
    "food1.update(food2)"
   ]
  },
  {
   "cell_type": "code",
   "execution_count": null,
   "id": "18dddb8f",
   "metadata": {},
   "outputs": [],
   "source": [
    "food1"
   ]
  },
  {
   "cell_type": "markdown",
   "id": "772e7226",
   "metadata": {},
   "source": [
    "# Sets"
   ]
  },
  {
   "cell_type": "markdown",
   "id": "e5dd3b21",
   "metadata": {},
   "source": [
    "#### Unordered and unindexed\n",
    "#### Curly braces { }\n",
    "#### no duplicates allow"
   ]
  },
  {
   "cell_type": "code",
   "execution_count": null,
   "id": "e2a959fb",
   "metadata": {},
   "outputs": [],
   "source": [
    "s1= {5.2, 1 ,3, \"Hina Riaz\", \"Gujranwala\",\"Madina\"}\n",
    "s1"
   ]
  },
  {
   "cell_type": "code",
   "execution_count": null,
   "id": "2e48c348",
   "metadata": {},
   "outputs": [],
   "source": [
    "s1.add(\"FCCU\")\n",
    "s1"
   ]
  },
  {
   "cell_type": "code",
   "execution_count": null,
   "id": "db751241",
   "metadata": {},
   "outputs": [],
   "source": [
    "#Boolean operator and duplicate elements can not added\n",
    "s1.add(\"Hina Riaz\")\n",
    "s1"
   ]
  },
  {
   "cell_type": "code",
   "execution_count": null,
   "id": "dd869d0f",
   "metadata": {},
   "outputs": [],
   "source": [
    "s1.add(\"Hina Riaz1\")\n",
    "s1"
   ]
  },
  {
   "cell_type": "code",
   "execution_count": null,
   "id": "f3da6b36",
   "metadata": {},
   "outputs": [],
   "source": [
    "s1.remove(\"Hina Riaz1\")\n",
    "s1"
   ]
  },
  {
   "cell_type": "code",
   "execution_count": null,
   "id": "0944fd21",
   "metadata": {},
   "outputs": [],
   "source": [
    "s1.difference()\n",
    "s1"
   ]
  },
  {
   "cell_type": "code",
   "execution_count": null,
   "id": "f3388f2f",
   "metadata": {},
   "outputs": [],
   "source": [
    "s1.difference_update()\n",
    "s1"
   ]
  },
  {
   "cell_type": "code",
   "execution_count": null,
   "id": "24d9455e",
   "metadata": {},
   "outputs": [],
   "source": []
  }
 ],
 "metadata": {
  "kernelspec": {
   "display_name": "Python 3 (ipykernel)",
   "language": "python",
   "name": "python3"
  },
  "language_info": {
   "codemirror_mode": {
    "name": "ipython",
    "version": 3
   },
   "file_extension": ".py",
   "mimetype": "text/x-python",
   "name": "python",
   "nbconvert_exporter": "python",
   "pygments_lexer": "ipython3",
   "version": "3.12.2"
  }
 },
 "nbformat": 4,
 "nbformat_minor": 5
}
