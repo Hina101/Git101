{
 "cells": [
  {
   "cell_type": "code",
   "execution_count": 1,
   "id": "293f59b3",
   "metadata": {},
   "outputs": [],
   "source": [
    "a=2+3  "
   ]
  },
  {
   "cell_type": "code",
   "execution_count": 6,
   "id": "42e5cabb",
   "metadata": {},
   "outputs": [
    {
     "name": "stdout",
     "output_type": "stream",
     "text": [
      "5\n"
     ]
    }
   ],
   "source": [
    "a=2+3\n",
    "print(a)"
   ]
  },
  {
   "cell_type": "code",
   "execution_count": 7,
   "id": "8e729389",
   "metadata": {},
   "outputs": [
    {
     "data": {
      "text/plain": [
       "2"
      ]
     },
     "execution_count": 7,
     "metadata": {},
     "output_type": "execute_result"
    }
   ],
   "source": [
    "a=2\n",
    "a"
   ]
  },
  {
   "cell_type": "code",
   "execution_count": 11,
   "id": "02317481",
   "metadata": {},
   "outputs": [
    {
     "data": {
      "text/plain": [
       "'Learing python with Hina'"
      ]
     },
     "execution_count": 11,
     "metadata": {},
     "output_type": "execute_result"
    }
   ],
   "source": [
    "a=\"Learing python with Hina\"\n",
    "a"
   ]
  },
  {
   "cell_type": "code",
   "execution_count": 12,
   "id": "0dc4df1a",
   "metadata": {},
   "outputs": [
    {
     "name": "stdout",
     "output_type": "stream",
     "text": [
      "M Riaz\n",
      "Hello Wold\n",
      "5\n",
      "I Am Hina Riaz\n"
     ]
    }
   ],
   "source": [
    "print(\"M Riaz\")\n",
    "print(\"Hello Wold\")\n",
    "print(2+3)\n",
    "print(\"I Am Hina Riaz\")"
   ]
  },
  {
   "cell_type": "markdown",
   "id": "c1fb0ae7",
   "metadata": {},
   "source": [
    "# Python_ka_chilla\n",
    "## How to use jupyter notebook\n",
    "### Baiscs of python\n",
    "1- My first program\n",
    "\n",
    "2- My 2nd program"
   ]
  },
  {
   "cell_type": "code",
   "execution_count": 13,
   "id": "76d486d1",
   "metadata": {},
   "outputs": [
    {
     "name": "stdout",
     "output_type": "stream",
     "text": [
      "M Riaz\n",
      "Hello Wold\n",
      "5\n",
      "I Am Hina Riaz\n"
     ]
    }
   ],
   "source": [
    "#My_first_program_in python\n",
    "print(\"M Riaz\")\n",
    "print(\"Hello Wold\")\n",
    "print(2+3)\n",
    "print(\"I Am Hina Riaz\")"
   ]
  }
 ],
 "metadata": {
  "kernelspec": {
   "display_name": "Python 3 (ipykernel)",
   "language": "python",
   "name": "python3"
  },
  "language_info": {
   "codemirror_mode": {
    "name": "ipython",
    "version": 3
   },
   "file_extension": ".py",
   "mimetype": "text/x-python",
   "name": "python",
   "nbconvert_exporter": "python",
   "pygments_lexer": "ipython3",
   "version": "3.11.7"
  }
 },
 "nbformat": 4,
 "nbformat_minor": 5
}
