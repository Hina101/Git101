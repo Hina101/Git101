{
 "cells": [
  {
   "cell_type": "markdown",
   "id": "8abf93d6",
   "metadata": {},
   "source": [
    "# Python ka Chilla\n",
    "## How to use jupyter notebook\n",
    "### Basis of python"
   ]
  },
  {
   "cell_type": "markdown",
   "id": "5f8477dd",
   "metadata": {},
   "source": [
    "## **01_first_program**"
   ]
  },
  {
   "cell_type": "code",
   "execution_count": 1,
   "id": "53efd163",
   "metadata": {},
   "outputs": [
    {
     "name": "stdout",
     "output_type": "stream",
     "text": [
      "M Riaz\n",
      "Hello Wold\n",
      "5\n",
      "I Am Hina Riaz\n"
     ]
    }
   ],
   "source": [
    "print(\"M Riaz\")\n",
    "print(\"Hello Wold\")\n",
    "print(2+3)\n",
    "print(\"I Am Hina Riaz\")"
   ]
  },
  {
   "cell_type": "markdown",
   "id": "4e55bc68",
   "metadata": {},
   "source": [
    "## **02_Operators**"
   ]
  },
  {
   "cell_type": "code",
   "execution_count": 2,
   "id": "c9a5fbf5",
   "metadata": {},
   "outputs": [
    {
     "name": "stdout",
     "output_type": "stream",
     "text": [
      "4\n",
      "1\n",
      "9\n",
      "3.0\n",
      "3\n",
      "1\n",
      "8\n",
      "15.0\n"
     ]
    }
   ],
   "source": [
    "print(2+2)\n",
    "print(3-2) \n",
    "print(3*3)\n",
    "print(6/2)\n",
    "print(6//2)\n",
    "print(13%2)\n",
    "print(2**3)\n",
    "print(2**3/4*8+9-10)"
   ]
  },
  {
   "cell_type": "markdown",
   "id": "ec0a15a4",
   "metadata": {},
   "source": [
    "## **03_Strings**"
   ]
  },
  {
   "cell_type": "code",
   "execution_count": 3,
   "id": "8be93675",
   "metadata": {},
   "outputs": [
    {
     "name": "stdout",
     "output_type": "stream",
     "text": [
      "Hello Wold\n",
      "I Am Hina Riaz\n",
      "Test for single quote\n",
      "test for double quote\n",
      "test for triple quore\n",
      "What's up ?\n"
     ]
    }
   ],
   "source": [
    "print(\"Hello Wold\")\n",
    "print(\"I Am Hina Riaz\")\n",
    "print('Test for single quote')\n",
    "print(\"test for double quote\")\n",
    "print('''test for triple quore''')\n",
    "print(\"What's up ?\")"
   ]
  },
  {
   "cell_type": "markdown",
   "id": "f99fb9d6",
   "metadata": {},
   "source": [
    "## **4_Comments**"
   ]
  },
  {
   "cell_type": "code",
   "execution_count": 4,
   "id": "59b4d441",
   "metadata": {},
   "outputs": [
    {
     "name": "stdout",
     "output_type": "stream",
     "text": [
      "We are learning python with Hina\n",
      "5\n"
     ]
    }
   ],
   "source": [
    "# print(\"How are you?\")                  # Press Ctrl+/ to comment out and same to comment in\n",
    "print(\"We are learning python with Hina\")      #print a string\n",
    "print(2+3)                             #print a operator function with num"
   ]
  },
  {
   "cell_type": "markdown",
   "id": "5bb1fa21",
   "metadata": {},
   "source": [
    "## **05_Variables**"
   ]
  },
  {
   "cell_type": "code",
   "execution_count": 6,
   "id": "38d6430a",
   "metadata": {},
   "outputs": [
    {
     "name": "stdout",
     "output_type": "stream",
     "text": [
      "5\n",
      "We are laerning python with Hina\n",
      "20\n",
      "25\n",
      "<class 'int'>\n",
      "<class 'str'>\n",
      "Mangos\n",
      "Mangos, Oranges\n",
      "<class 'str'>\n",
      "<class 'int'>\n",
      "Mangoes\n",
      "<class 'str'>\n"
     ]
    }
   ],
   "source": [
    " #Variables: Objests containg specific values\n",
    "x=5    #ye aik variable ban gya (numeric or integer variable)\n",
    "print(x)\n",
    "#agr aik string ko y k = rakhy to \n",
    "y= \"We are laerning python with Hina\"\n",
    "print(y)\n",
    "x=20\n",
    "print(x)\n",
    "x=x+5\n",
    "print(x)\n",
    "# Types/calss of variables \n",
    "type(x)\n",
    "print(type(x))\n",
    "print(type(y))\n",
    "\n",
    "# #Rules to assign a variable/ object in variable\n",
    "# 1- The variabale should contain number, letters or underscores\n",
    "# 2- Do not start with numbers\n",
    "# 3-Spaces are not allowed\n",
    "# 4-Do not use keywords in function (Brek, mean,medain,test) Key words not used in python\n",
    "# 5- Short and descriptive variable name \n",
    "# 6- Case senstivity (Uppercase, lowercase . Letters) Lowercase lettres\n",
    "\n",
    "fruit_busket=\"Mangos\"\n",
    "print(fruit_busket)\n",
    "fruit_busket=\"Mangos, Oranges\"\n",
    "print(fruit_busket)\n",
    "print(type(fruit_busket))\n",
    "fruit_busket=8\n",
    "print(type(fruit_busket))\n",
    "fruit_busket=8\n",
    "fruit_busket=\"Mangoes\"\n",
    "print(fruit_busket)\n",
    "print(type(fruit_busket))\n"
   ]
  },
  {
   "cell_type": "markdown",
   "id": "f85c8dce",
   "metadata": {},
   "source": [
    "## **06_Input_Variables**"
   ]
  },
  {
   "cell_type": "code",
   "execution_count": 7,
   "id": "c11134de",
   "metadata": {},
   "outputs": [
    {
     "name": "stdout",
     "output_type": "stream",
     "text": [
      "Mangoes\n",
      "What is your favourit Fruit?     Apple\n",
      "Apple\n",
      "What is your name?    Hina Riaz\n",
      "Hello Hina Riaz\n",
      "What is your name?    Hina Riaz\n",
      "Hello Hina Riaz\n",
      "What is your name?  Hina Riaz\n",
      "How old are you?  24\n",
      "Hello Hina Riaz You are still young\n"
     ]
    }
   ],
   "source": [
    "fruit_basket=\"Mangoes\"\n",
    "print(fruit_basket)\n",
    "\n",
    "# Input_function simple\n",
    "fruit_basket=input(\"What is your favourit Fruit?     \")\n",
    "print(fruit_basket)\n",
    "\n",
    "# Input_function of 2nd stage\n",
    "name=input(\"What is your name?    \")\n",
    "greetings=\"Hello\"\n",
    "print(greetings,name)\n",
    "\n",
    "#Another way of stage 2 input_function\n",
    "name=input(\"What is your name?    \")\n",
    "print(\"Hello\",name)\n",
    "\n",
    "#3rd stage input_function\n",
    "\n",
    "name=input(\"What is your name?  \")\n",
    "age=input(\"How old are you?  \")\n",
    "greetings=\"Hello\"\n",
    "print(greetings,name,\"You are still young\")\n"
   ]
  },
  {
   "cell_type": "markdown",
   "id": "9513c31a",
   "metadata": {},
   "source": [
    "## **07_Contional_logics**"
   ]
  },
  {
   "cell_type": "code",
   "execution_count": 9,
   "id": "cf65444c",
   "metadata": {},
   "outputs": [
    {
     "name": "stdout",
     "output_type": "stream",
     "text": [
      "True\n",
      "True\n",
      "True\n",
      "True\n",
      "True\n",
      "True\n",
      "False\n",
      "False\n",
      "How_old_is_hammad?     5\n",
      "<class 'int'>\n",
      "True\n"
     ]
    }
   ],
   "source": [
    "# logical operators are either true or false/ yes or no/ 0 or 1\n",
    "# equal to                       ==\n",
    "# not equal to                   !=\n",
    "# less than                      <\n",
    "# greater than                   >\n",
    "# less than and equal to         <=\n",
    "# greater than and equal to      >=   \n",
    "\n",
    "\n",
    "print(4==4)\n",
    "print(4!=3)\n",
    "print(3<5)\n",
    "print(5>3)\n",
    "print(2<=3)\n",
    "print(5>=1)\n",
    "\n",
    "\n",
    "\n",
    "# application of logicak operators\n",
    "\n",
    "Hamad_age=4\n",
    "age_at_school=5\n",
    "print('Hammad_age'==age_at_school)\n",
    "\n",
    "arslan_age=24\n",
    "age_to_go_university=33\n",
    "print(arslan_age==age_to_go_university)\n",
    "\n",
    "\n",
    "#input function and logical operators\n",
    "\n",
    "# Hamad_age=4\n",
    "# age_at_school=5\n",
    "# print('Hammad_age'==age_at_school)\n",
    "\n",
    "\n",
    "age_at_school=5\n",
    "hammad_age=input(\"How_old_is_hammad?     \")\n",
    "hammad_age=int(hammad_age)\n",
    "print(type(hammad_age))\n",
    "print(hammad_age==age_at_school)\n",
    "\n"
   ]
  },
  {
   "cell_type": "markdown",
   "id": "753405e1",
   "metadata": {},
   "source": [
    "## **08_Type_Conversion**"
   ]
  },
  {
   "cell_type": "code",
   "execution_count": 10,
   "id": "00e36b8a",
   "metadata": {},
   "outputs": [
    {
     "name": "stdout",
     "output_type": "stream",
     "text": [
      "14.5 type_of_x_is; <class 'float'>\n",
      "What_is_your_age?    24\n",
      "<class 'int'>\n",
      "<class 'int'>\n",
      "24 <class 'int'>\n",
      "24 <class 'float'>\n",
      "24 <class 'str'>\n",
      "what_is_your_name?     Hina Riaz\n",
      "Hina Riaz <class 'str'>\n"
     ]
    }
   ],
   "source": [
    "x=4             #Ingeter\n",
    "y=10.5          #float\n",
    "z=\"Hello\"       #string\n",
    "\n",
    "\n",
    "# x=x*y        #Float\n",
    "# x=x+y        #float\n",
    "# x=y/x        #float\n",
    "\n",
    "\n",
    "#implicit_type_conversion\n",
    "\n",
    "x=x+y \n",
    "print(x,\"type_of_x_is;\",type(x))\n",
    "\n",
    "#explicit_type_conversion\n",
    "\n",
    "age=input(\"What_is_your_age?    \")\n",
    "age=int(age)                    \n",
    "print(type(age))              #other way (without step 2)  \n",
    "print(type(int(age)))         #integer\n",
    "print(age,type(int(age)))     #if we pet age=14.5       answer will b invalid (float)\n",
    "print(age,type(float(age)))   #float\n",
    "print(age,type(str(age)))       #string\n",
    "\n",
    "\n",
    "\n",
    "name=input(\"what_is_your_name?     \")\n",
    "print(name,type(str(name)))"
   ]
  },
  {
   "cell_type": "markdown",
   "id": "9840e508",
   "metadata": {},
   "source": [
    "## **09_If_else_elif**"
   ]
  },
  {
   "cell_type": "code",
   "execution_count": 11,
   "id": "e8a3cb10",
   "metadata": {},
   "outputs": [
    {
     "name": "stdout",
     "output_type": "stream",
     "text": [
      "hammad can join the school\n",
      "hammad can't go to school\n",
      "hammad can't go to school  or should join higher classes \n",
      "hammad should join higher classes\n",
      "You shoul take care of hammad, He is baby now\n"
     ]
    }
   ],
   "source": [
    "requird_age_at_school=5\n",
    "hammad_age=4\n",
    "\n",
    "#can hammad go to school\n",
    "\n",
    "if hammad_age==requird_age_at_school:   #if this statement is true then print this\n",
    "    print(\"hammad can join the school\")\n",
    "    \n",
    "#This is a false statement    hammad_age=4,,, required_age_at_school=5\n",
    "\n",
    "\n",
    "requird_age_at_school=5\n",
    "hammad_age=5\n",
    "\n",
    "#can hammad go to school\n",
    "\n",
    "if hammad_age==requird_age_at_school:\n",
    "    print(\"hammad can join the school\")\n",
    "    \n",
    "#if we write if statement then agr wo condition pori ni hoti to kuch or ha(else) to wo print kr den\n",
    "\n",
    "requird_age_at_school=5\n",
    "hammad_age=4\n",
    "\n",
    "#can hammad go to school         ages are not equal\n",
    "\n",
    "if hammad_age==requird_age_at_school:\n",
    "    print(\"hammad can join the school\")\n",
    "\n",
    "else:\n",
    "    print(\"hammad can't go to school\")    \n",
    "\n",
    "\n",
    "#2nd example\n",
    "\n",
    "\n",
    "requird_age_at_school=5\n",
    "hammad_age= 10\n",
    "\n",
    "#can hammad go to school        \n",
    "\n",
    "if hammad_age==requird_age_at_school:\n",
    "    print(\"hammad can join the school\")\n",
    "\n",
    "else:\n",
    "    print(\"hammad can't go to school  or should join higher classes \")  \n",
    "\n",
    "\n",
    "#elif(else_if)\n",
    "\n",
    "hammad_age=9\n",
    "requird_age_at_school=5\n",
    "if hammad_age==requird_age_at_school:\n",
    "    print(\"Congragulations! haammad can join school.\")\n",
    "\n",
    "elif hammad_age > requird_age_at_school:\n",
    "    print(\"hammad should join higher classes\")\n",
    "else:\n",
    "    print(\"hammad can not go to school\")   \n",
    "\n",
    "#uper 3 condtions ha...if we change age according to conditions then results will different   \n",
    "#we can add elif statement according to our need or desire\n",
    "\n",
    "hammad_age=2\n",
    "requird_age_at_school=5\n",
    "if hammad_age==requird_age_at_school:\n",
    "    print(\"Congragulations! haammad can join school.\")\n",
    "\n",
    "elif hammad_age > requird_age_at_school:\n",
    "    print(\"hammad should join higher classes\")\n",
    "elif hammad_age== 2:\n",
    "    print(\"You shoul take care of hammad, He is baby now\")\n",
    "else:\n",
    "    print(\"hammad can not go to school\")   \n",
    "\n"
   ]
  },
  {
   "cell_type": "markdown",
   "id": "ab765104",
   "metadata": {},
   "source": [
    "## **10_Function**"
   ]
  },
  {
   "cell_type": "code",
   "execution_count": 12,
   "id": "6a64082c",
   "metadata": {},
   "outputs": [
    {
     "name": "stdout",
     "output_type": "stream",
     "text": [
      "We are learing with Hina\n",
      "We are learing with Hina\n",
      "We are learing with Hina\n",
      "We are learing with Hina\n",
      "We are learing with Hina\n",
      "We are learing with Hina\n",
      "We are learing with Hina\n",
      "We are learing with Hina\n",
      "We are learing with Hina\n",
      "We are learing with Hina\n",
      "We are learing with Hina\n",
      "We are learing with Hina on youtube channel\n",
      "We are learing with Hina on youtube channel\n",
      "We are learing with Hina on youtube channel\n"
     ]
    },
    {
     "ename": "TypeError",
     "evalue": "print_Hina() missing 1 required positional argument: 'text'",
     "output_type": "error",
     "traceback": [
      "\u001b[1;31m---------------------------------------------------------------------------\u001b[0m",
      "\u001b[1;31mTypeError\u001b[0m                                 Traceback (most recent call last)",
      "Cell \u001b[1;32mIn[12], line 46\u001b[0m\n\u001b[0;32m     43\u001b[0m    \u001b[38;5;28mprint\u001b[39m(text)\n\u001b[0;32m     44\u001b[0m    \u001b[38;5;28mprint\u001b[39m(text)\n\u001b[1;32m---> 46\u001b[0m print_Hina()    \u001b[38;5;66;03m#if we run this they asked for text we can add here\u001b[39;00m\n\u001b[0;32m     48\u001b[0m \u001b[38;5;28;01mdef\u001b[39;00m \u001b[38;5;21mprint_Hina\u001b[39m(text): \n\u001b[0;32m     49\u001b[0m    \u001b[38;5;28mprint\u001b[39m(text)\n",
      "\u001b[1;31mTypeError\u001b[0m: print_Hina() missing 1 required positional argument: 'text'"
     ]
    }
   ],
   "source": [
    "print(\"We are learing with Hina\")\n",
    "print(\"We are learing with Hina\")\n",
    "print(\"We are learing with Hina\")\n",
    "print(\"We are learing with Hina\")\n",
    "print(\"We are learing with Hina\")\n",
    "\n",
    "# # #if i want to print this 100 or 1000 time then to solve this we can do a simple function\n",
    "\n",
    "# #Defining a Function      Hina=Name of function\n",
    "# #1\n",
    "\n",
    "def print_Hina(): \n",
    "    print(\"We are learing with Hina\")\n",
    "    print(\"We are learing with Hina\")\n",
    "    print(\"We are learing with Hina\")\n",
    "\n",
    "print_Hina()       \n",
    "\n",
    "\n",
    "# #2\n",
    "\n",
    "def print_Hina(): \n",
    "   text=\"We are learing with Hina\"\n",
    "   print(text)\n",
    "   print(text)\n",
    "   print(text)\n",
    "\n",
    "print_Hina()   \n",
    "\n",
    "\n",
    "def print_Hina(): \n",
    "   text=\"We are learing with Hina on youtube channel\"    #The whole text change\n",
    "   print(text)\n",
    "   print(text)\n",
    "   print(text)\n",
    "\n",
    "print_Hina() \n",
    "\n",
    "# # 3\n",
    "\n",
    "def print_Hina(text): \n",
    "   print(text)\n",
    "   print(text)\n",
    "   print(text)\n",
    "\n",
    "print_Hina()    #if we run this they asked for text we can add here\n",
    "\n",
    "def print_Hina(text): \n",
    "   print(text)\n",
    "   print(text)\n",
    "   print(text)\n",
    "\n",
    "print_Hina(\"We are learning python with Hina\") \n",
    "\n",
    "# if_elif_else\n",
    "\n",
    "def School_calculator(age,text):\n",
    "   if age==2:\n",
    "      print(\"Hammad can join the school\")\n",
    "   elif age>5:\n",
    "      print(\"Hammad should join highr classes\")   \n",
    "   else:\n",
    "      print(\"Hammad is still a baby\")\n",
    "\n",
    "School_calculator(5, \"Hammad\")   \n",
    "\n",
    "# define function by operator\n",
    "# defining a function of future\n",
    "\n",
    "def future_age(age):\n",
    "    new_age=age+20\n",
    "    return new_age\n",
    "    print(new_age)\n",
    "\n",
    "future_predicted_age=future_age(18)   \n",
    "print(future_predicted_age)\n"
   ]
  },
  {
   "cell_type": "markdown",
   "id": "cc75880c",
   "metadata": {},
   "source": [
    "## **11_Loops**"
   ]
  },
  {
   "cell_type": "code",
   "execution_count": 13,
   "id": "ca794ae7",
   "metadata": {},
   "outputs": [
    {
     "name": "stdout",
     "output_type": "stream",
     "text": [
      "Mon\n",
      "Tues\n",
      "Thu\n",
      "Fri\n",
      "sat\n",
      "Sun\n"
     ]
    }
   ],
   "source": [
    "#while and for loops\n",
    "\n",
    "#while loops\n",
    "\n",
    "# x=0\n",
    "# while(x<5):\n",
    "#     print(x)\n",
    "#     x=x+1\n",
    "\n",
    "# x=0\n",
    "# while(x<=5):\n",
    "#     print(x)\n",
    "#     x=x+1    \n",
    "\n",
    "#for loop\n",
    "\n",
    "# for x in range(4,11):\n",
    "#     print(x)  \n",
    "\n",
    "#array\n",
    "\n",
    "# days = [\"Mon\", \"Tues\", \"Thu\", \"Fri\",  \"sat\", \"Sun\"]\n",
    "\n",
    "# for d in days:\n",
    "#     print(d)\n",
    "\n",
    "#use if else\n",
    "\n",
    "days = [\"Mon\", \"Tues\", \"Thu\", \"Fri\",  \"sat\", \"Sun\"]\n",
    "\n",
    "for d in days:\n",
    "    # if(d==\"Fri\"):break #loop\n",
    "    if(d==\"fri\"):continue #skips d\n",
    "    print(d)\n",
    "   "
   ]
  },
  {
   "cell_type": "markdown",
   "id": "3c438ac5",
   "metadata": {},
   "source": [
    "## **12_Import_Libararies**"
   ]
  },
  {
   "cell_type": "code",
   "execution_count": 14,
   "id": "d840d4df",
   "metadata": {},
   "outputs": [
    {
     "name": "stdout",
     "output_type": "stream",
     "text": [
      "The value of pi is  3.141592653589793\n",
      "3.6666666666666665\n"
     ]
    }
   ],
   "source": [
    "# if u want to print the value of pi\n",
    "# need to import library\n",
    "\n",
    "import math\n",
    "print(\"The value of pi is \", math.pi)\n",
    "\n",
    "import statistics\n",
    "x=[3,5,4,2,2,6]\n",
    "print(statistics.mean(x))\n",
    "\n",
    "#numpy,pandas"
   ]
  },
  {
   "cell_type": "markdown",
   "id": "371ac758",
   "metadata": {},
   "source": [
    "## **13_Trouble_shooting**"
   ]
  },
  {
   "cell_type": "code",
   "execution_count": 15,
   "id": "3b076641",
   "metadata": {},
   "outputs": [
    {
     "name": "stdout",
     "output_type": "stream",
     "text": [
      "Hello , name\n",
      "Hello Ammar\n",
      "HelloAmmar\n"
     ]
    }
   ],
   "source": [
    "# print(we are learning python with Hina) #syntaxError \"\"\n",
    "\n",
    "# print(25/0) #runtime erroe (Mathematical erroe)0 division error\n",
    "\n",
    "#Both these error are easy to trouble shoot \n",
    "# 3rd one is tough\n",
    "\n",
    "name= \"Ammar\"\n",
    "\n",
    "print(\"Hello , name\")  \n",
    "\n",
    "# in result is shows Hello, name instead of Hello Ammar\n",
    "\n",
    "\n",
    "name= \"Ammar\"\n",
    "\n",
    "print(\"Hello\" , name)  \n",
    "# problem is solved Hello Ammar\n",
    "\n",
    "name= \"Ammar\"\n",
    "\n",
    "print(\"Hello\" + name) # by putting + the space is removed HelloAmmar\n"
   ]
  },
  {
   "cell_type": "code",
   "execution_count": null,
   "id": "910ae682",
   "metadata": {},
   "outputs": [],
   "source": []
  }
 ],
 "metadata": {
  "kernelspec": {
   "display_name": "Python 3 (ipykernel)",
   "language": "python",
   "name": "python3"
  },
  "language_info": {
   "codemirror_mode": {
    "name": "ipython",
    "version": 3
   },
   "file_extension": ".py",
   "mimetype": "text/x-python",
   "name": "python",
   "nbconvert_exporter": "python",
   "pygments_lexer": "ipython3",
   "version": "3.11.7"
  }
 },
 "nbformat": 4,
 "nbformat_minor": 5
}
